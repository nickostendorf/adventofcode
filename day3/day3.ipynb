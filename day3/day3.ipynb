{
 "cells": [
  {
   "cell_type": "code",
   "execution_count": 1,
   "metadata": {},
   "outputs": [],
   "source": [
    "import re"
   ]
  },
  {
   "cell_type": "code",
   "execution_count": 20,
   "metadata": {},
   "outputs": [],
   "source": [
    "from IPython.display import HTML"
   ]
  },
  {
   "cell_type": "code",
   "execution_count": 13,
   "metadata": {},
   "outputs": [],
   "source": [
    "# read in input.txt\n",
    "lines = [line.strip() for line in open('input.txt', 'r')]"
   ]
  },
  {
   "cell_type": "code",
   "execution_count": 32,
   "metadata": {},
   "outputs": [
    {
     "name": "stdout",
     "output_type": "stream",
     "text": [
      "[9, 13, 27, 40, 48, 57, 76, 91]\n"
     ]
    }
   ],
   "source": [
    "for line_idx, line in enumerate(lines):\n",
    "    # grab groups of digits in line\n",
    "    digits = re.findall(r'\\d+', line)\n",
    "    # grab indices of digits in line\n",
    "    for digit in digits:\n",
    "        star_idx = line.index(digit)\n",
    "        # check index in prev and next line\n",
    "        print(lines[line_idx+1][digit_idx-1:digit_idx+2])\n",
    "    \n",
    "    # check digits in line\n",
    "    # for char in line:\n",
    "    #     if char.isdigit():\n",
    "    #         # if digit is found, get location and check if special char is adajcent or diagonal\n",
    "    #         digit_index = line.index(char)\n",
    "    #         # check index in prev and next line\n",
    "    #         print(lines[line_idx+1][digit_index-1:digit_index+2])\n",
    "    #         break\n",
    "    break\n"
   ]
  },
  {
   "cell_type": "code",
   "execution_count": 29,
   "metadata": {},
   "outputs": [],
   "source": [
    "def highlight_string(s):\n",
    "    return \"\\033[91m{}\\033[0m\".format(s)"
   ]
  },
  {
   "cell_type": "code",
   "execution_count": 30,
   "metadata": {},
   "outputs": [
    {
     "data": {
      "text/plain": [
       "'\\x1b[91mtest\\x1b[0m'"
      ]
     },
     "execution_count": 30,
     "metadata": {},
     "output_type": "execute_result"
    }
   ],
   "source": [
    "highlight_string(\"test\")"
   ]
  },
  {
   "cell_type": "code",
   "execution_count": 23,
   "metadata": {},
   "outputs": [
    {
     "name": "stdout",
     "output_type": "stream",
     "text": [
      "\u001b[91mHello, world!\u001b[0m\n"
     ]
    }
   ],
   "source": [
    "red_text = \"\\033[91mHello, world!\\033[0m\"\n",
    "print(red_text)"
   ]
  },
  {
   "cell_type": "code",
   "execution_count": null,
   "metadata": {},
   "outputs": [],
   "source": []
  }
 ],
 "metadata": {
  "kernelspec": {
   "display_name": "base",
   "language": "python",
   "name": "python3"
  },
  "language_info": {
   "codemirror_mode": {
    "name": "ipython",
    "version": 3
   },
   "file_extension": ".py",
   "mimetype": "text/x-python",
   "name": "python",
   "nbconvert_exporter": "python",
   "pygments_lexer": "ipython3",
   "version": "3.8.13"
  },
  "orig_nbformat": 4
 },
 "nbformat": 4,
 "nbformat_minor": 2
}
