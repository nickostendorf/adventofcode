{
 "cells": [
  {
   "cell_type": "code",
   "execution_count": 45,
   "metadata": {},
   "outputs": [],
   "source": [
    "import re"
   ]
  },
  {
   "cell_type": "code",
   "execution_count": 46,
   "metadata": {},
   "outputs": [],
   "source": [
    "# read in input.txt\n",
    "lines = [line.strip() for line in open('input.txt', 'r')]"
   ]
  },
  {
   "cell_type": "code",
   "execution_count": 47,
   "metadata": {},
   "outputs": [],
   "source": [
    "cube_nums = {\"red\": 12, \"green\": 13, \"blue\": 14}"
   ]
  },
  {
   "cell_type": "code",
   "execution_count": 48,
   "metadata": {},
   "outputs": [
    {
     "data": {
      "text/plain": [
       "'Game 1: 1 red, 10 blue, 5 green; 11 blue, 6 green; 6 green; 1 green, 1 red, 12 blue; 3 blue; 3 blue, 4 green, 1 red'"
      ]
     },
     "execution_count": 48,
     "metadata": {},
     "output_type": "execute_result"
    }
   ],
   "source": [
    "lines[0]"
   ]
  },
  {
   "cell_type": "code",
   "execution_count": 49,
   "metadata": {},
   "outputs": [],
   "source": [
    "valid_games = []"
   ]
  },
  {
   "cell_type": "code",
   "execution_count": 50,
   "metadata": {},
   "outputs": [],
   "source": [
    "for game in lines:\n",
    "    # Save game number\n",
    "    game_num = re.search(r'Game (\\d+)', game).group(1)\n",
    "    game = re.sub(r'^.*?: ', '', game)\n",
    "    subsets = game.split('; ')\n",
    "    game_valid = True\n",
    "    for subset in subsets:\n",
    "        cubes = subset.split(', ')\n",
    "        for cube in cubes:\n",
    "            color = cube.split(' ')[1]\n",
    "            num = int(cube.split(' ')[0])\n",
    "            if num > cube_nums.get(color):\n",
    "                game_valid = False\n",
    "    if game_valid:\n",
    "        valid_games.append(int(game_num))"
   ]
  },
  {
   "cell_type": "code",
   "execution_count": 51,
   "metadata": {},
   "outputs": [
    {
     "data": {
      "text/plain": [
       "2563"
      ]
     },
     "execution_count": 51,
     "metadata": {},
     "output_type": "execute_result"
    }
   ],
   "source": [
    "sum(valid_games)"
   ]
  },
  {
   "attachments": {},
   "cell_type": "markdown",
   "metadata": {},
   "source": [
    "Part 2\n",
    "\n",
    "- get the max number of cubes that a game could be played with"
   ]
  },
  {
   "cell_type": "code",
   "execution_count": 52,
   "metadata": {},
   "outputs": [],
   "source": [
    "powers_of_games = []"
   ]
  },
  {
   "cell_type": "code",
   "execution_count": 53,
   "metadata": {},
   "outputs": [],
   "source": [
    "for game in lines:\n",
    "    game = re.sub(r'^.*?: ', '', game)\n",
    "    subsets = game.split('; ')\n",
    "    red = 0\n",
    "    green = 0\n",
    "    blue = 0\n",
    "    for subset in subsets:\n",
    "        cubes = subset.split(', ')\n",
    "        for cube in cubes:\n",
    "            color = cube.split(' ')[1]\n",
    "            num = int(cube.split(' ')[0])\n",
    "            if color == \"red\":\n",
    "                if num > red:\n",
    "                    red = num\n",
    "            elif color == \"green\":\n",
    "                if num > green:\n",
    "                    green = num\n",
    "            elif color == \"blue\":\n",
    "                if num > blue:\n",
    "                    blue = num\n",
    "    \n",
    "    power_of_game = red * green * blue\n",
    "    powers_of_games.append(power_of_game)"
   ]
  },
  {
   "cell_type": "code",
   "execution_count": 54,
   "metadata": {},
   "outputs": [
    {
     "data": {
      "text/plain": [
       "70768"
      ]
     },
     "execution_count": 54,
     "metadata": {},
     "output_type": "execute_result"
    }
   ],
   "source": [
    "sum(powers_of_games)"
   ]
  }
 ],
 "metadata": {
  "kernelspec": {
   "display_name": "base",
   "language": "python",
   "name": "python3"
  },
  "language_info": {
   "codemirror_mode": {
    "name": "ipython",
    "version": 3
   },
   "file_extension": ".py",
   "mimetype": "text/x-python",
   "name": "python",
   "nbconvert_exporter": "python",
   "pygments_lexer": "ipython3",
   "version": "3.8.13"
  },
  "orig_nbformat": 4
 },
 "nbformat": 4,
 "nbformat_minor": 2
}
